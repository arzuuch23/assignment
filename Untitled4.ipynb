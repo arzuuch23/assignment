{
 "cells": [
  {
   "cell_type": "markdown",
   "id": "6ec36db4-4c3b-49a3-ab8d-7d51f8aab19c",
   "metadata": {},
   "source": [
    "# Question no :1 : for loop to print even number"
   ]
  },
  {
   "cell_type": "code",
   "execution_count": 3,
   "id": "a3110e31-5192-4b91-b5e7-c20e98e48a4c",
   "metadata": {},
   "outputs": [
    {
     "name": "stdout",
     "output_type": "stream",
     "text": [
      "2\n",
      "4\n",
      "6\n",
      "8\n",
      "10\n",
      "12\n",
      "14\n",
      "16\n",
      "18\n"
     ]
    }
   ],
   "source": [
    "for i in range (2, 20, 2):\n",
    "    print(i)"
   ]
  },
  {
   "cell_type": "markdown",
   "id": "2b6701f5-6171-4da9-9dfc-1ed006a76641",
   "metadata": {},
   "source": [
    "# Question no 2:list of names using for loop in uppercase"
   ]
  },
  {
   "cell_type": "code",
   "execution_count": 8,
   "id": "6635cecb-ea1e-42c5-81ce-ad8def7a5891",
   "metadata": {},
   "outputs": [
    {
     "name": "stdout",
     "output_type": "stream",
     "text": [
      "ARZU\n",
      "WAJIHA\n",
      "ZUKHRUF\n",
      "AJ\n",
      "FIZZA\n"
     ]
    }
   ],
   "source": [
    "names = ['arzu', 'wajiha', 'zukhruf', 'aj', 'fizza']\n",
    "for name in names :\n",
    "    print(name.upper())"
   ]
  },
  {
   "cell_type": "markdown",
   "id": "e894027b-a91c-401a-8a7e-2bc930038cd4",
   "metadata": {},
   "source": [
    "# Question no 3: print 10 to 1 in reverse"
   ]
  },
  {
   "cell_type": "code",
   "execution_count": 13,
   "id": "af37816c-5c01-4417-b808-853aa3d339b2",
   "metadata": {},
   "outputs": [
    {
     "name": "stdout",
     "output_type": "stream",
     "text": [
      "10\n",
      "9\n",
      "8\n",
      "7\n",
      "6\n",
      "5\n",
      "4\n",
      "3\n",
      "2\n",
      "1\n"
     ]
    }
   ],
   "source": [
    "for i in range (10, 0, -1):\n",
    "    print(i)"
   ]
  },
  {
   "cell_type": "markdown",
   "id": "08a9e7e5-072e-477a-9ed9-05dda1a87e56",
   "metadata": {},
   "source": [
    "# Question no 4: iterate integers divisible by 3"
   ]
  },
  {
   "cell_type": "code",
   "execution_count": 33,
   "id": "045b2b62-e18f-4bb8-a678-7228d8b5da25",
   "metadata": {},
   "outputs": [
    {
     "name": "stdout",
     "output_type": "stream",
     "text": [
      "3\n",
      "9\n",
      "15\n",
      "18\n",
      "21\n"
     ]
    }
   ],
   "source": [
    "numbers = [1, 3, 9, 11, 15, 17, 18, 20, 21]\n",
    "for num in numbers:\n",
    "    if num % 3 == 0:\n",
    "        print(num)"
   ]
  },
  {
   "cell_type": "markdown",
   "id": "57c523c9-a53c-40b3-91f1-23dec65e1036",
   "metadata": {},
   "source": [
    "# Question no 5: print squares from 1 to 10"
   ]
  },
  {
   "cell_type": "code",
   "execution_count": 36,
   "id": "cd1ded61-b5d0-4c90-9cd6-73de1a30388e",
   "metadata": {},
   "outputs": [
    {
     "name": "stdout",
     "output_type": "stream",
     "text": [
      "1 squared is 1\n",
      "2 squared is 4\n",
      "3 squared is 9\n",
      "4 squared is 16\n",
      "5 squared is 25\n",
      "6 squared is 36\n",
      "7 squared is 49\n",
      "8 squared is 64\n",
      "9 squared is 81\n",
      "10 squared is 100\n"
     ]
    }
   ],
   "source": [
    "for i in range (1, 11):\n",
    "    print(f\"{i} squared is {i**2}\")"
   ]
  },
  {
   "cell_type": "markdown",
   "id": "86cb560d-8f11-4c42-a984-c80bd9d8ddae",
   "metadata": {},
   "source": [
    "# Question no 6: celcius to fahrenheit"
   ]
  },
  {
   "cell_type": "code",
   "execution_count": 44,
   "id": "df5dcc77-c420-46eb-b804-5ce73f43cc3a",
   "metadata": {},
   "outputs": [
    {
     "name": "stdout",
     "output_type": "stream",
     "text": [
      "Fehrenheit temperatures: [64.4]\n",
      "Fehrenheit temperatures: [64.4, 64.4]\n",
      "Fehrenheit temperatures: [64.4, 64.4, 64.4]\n",
      "Fehrenheit temperatures: [64.4, 64.4, 64.4, 64.4]\n"
     ]
    }
   ],
   "source": [
    "celsius_temps = [0, 23, 1, 18]\n",
    "fehrenheit_temps = []\n",
    "for temps in celsius_temps:\n",
    "    fehrenheit = (temp * 9/5) + 32\n",
    "    fehrenheit_temps.append(fehrenheit)\n",
    "    print(\"Fehrenheit temperatures:\", fehrenheit_temps)\n"
   ]
  },
  {
   "cell_type": "markdown",
   "id": "223ff581-2fcd-4d90-a363-50723c1132bc",
   "metadata": {},
   "source": [
    "# Question no 7: table of 5"
   ]
  },
  {
   "cell_type": "code",
   "execution_count": 49,
   "id": "811eed3b-fcb3-405b-860e-23e470d4af4e",
   "metadata": {},
   "outputs": [
    {
     "name": "stdout",
     "output_type": "stream",
     "text": [
      "5 x 1 = 5\n",
      "5 x 2 = 10\n",
      "5 x 3 = 15\n",
      "5 x 4 = 20\n",
      "5 x 5 = 25\n",
      "5 x 6 = 30\n",
      "5 x 7 = 35\n",
      "5 x 8 = 40\n",
      "5 x 9 = 45\n",
      "5 x 10 = 50\n"
     ]
    }
   ],
   "source": [
    "for i in range (1, 11):\n",
    "    print(f\"5 x {i} = {5 * i}\")"
   ]
  },
  {
   "cell_type": "markdown",
   "id": "de822c9c-7dc7-4e54-834d-ca632806ecd9",
   "metadata": {},
   "source": [
    "# Question no 8 : sum of all numbers"
   ]
  },
  {
   "cell_type": "code",
   "execution_count": 62,
   "id": "1f6cf152-9872-4a6b-9de2-303971f26064",
   "metadata": {},
   "outputs": [
    {
     "name": "stdout",
     "output_type": "stream",
     "text": [
      "The sum of all numbers in the list is: 44\n"
     ]
    }
   ],
   "source": [
    "numbers = [1, 23, 18, 2]\n",
    "total = 0\n",
    "for number in numbers:\n",
    "    total += number\n",
    "print(\"The sum of all numbers in the list is:\", total)"
   ]
  },
  {
   "cell_type": "markdown",
   "id": "7feb26d3-64d9-44d8-b884-c3cad76b594b",
   "metadata": {},
   "source": [
    "# Question no 9 : for loop string in to character"
   ]
  },
  {
   "cell_type": "code",
   "execution_count": 2,
   "id": "be057218-a667-4e93-8f5a-c9d3c0d5b050",
   "metadata": {},
   "outputs": [
    {
     "name": "stdout",
     "output_type": "stream",
     "text": [
      "H\n",
      "e\n",
      "l\n",
      "l\n",
      "o\n",
      " \n",
      "w\n",
      "o\n",
      "r\n",
      "l\n",
      "d\n",
      "!\n"
     ]
    }
   ],
   "source": [
    "text = \"Hello world!\"\n",
    "for char in text:\n",
    "    print(char)\n"
   ]
  },
  {
   "cell_type": "markdown",
   "id": "6dd81bc7-821a-43f0-a821-b9c9160b2cd9",
   "metadata": {},
   "source": [
    "# Question no 10: list of words more than 5 letters"
   ]
  },
  {
   "cell_type": "code",
   "execution_count": 15,
   "id": "b1421a25-214e-43da-94c0-85775db77a6f",
   "metadata": {},
   "outputs": [
    {
     "name": "stdout",
     "output_type": "stream",
     "text": [
      "wajeeha\n",
      "zukhruf\n",
      "aj dastagir\n",
      "meharma\n"
     ]
    }
   ],
   "source": [
    "words = [\"arzu\", \"wajeeha\", \"zukhruf\", \"aj dastagir\", \"meharma\"]\n",
    "for word in words:\n",
    "    if len(word) > 5:\n",
    "        print(word)\n"
   ]
  },
  {
   "cell_type": "code",
   "execution_count": null,
   "id": "623cfdab-73bd-4d6d-9bd4-73928d7ebd8a",
   "metadata": {},
   "outputs": [],
   "source": []
  }
 ],
 "metadata": {
  "kernelspec": {
   "display_name": "Python [conda env:base] *",
   "language": "python",
   "name": "conda-base-py"
  },
  "language_info": {
   "codemirror_mode": {
    "name": "ipython",
    "version": 3
   },
   "file_extension": ".py",
   "mimetype": "text/x-python",
   "name": "python",
   "nbconvert_exporter": "python",
   "pygments_lexer": "ipython3",
   "version": "3.12.7"
  }
 },
 "nbformat": 4,
 "nbformat_minor": 5
}
